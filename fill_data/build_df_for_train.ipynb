{
 "cells": [
  {
   "cell_type": "code",
   "execution_count": 1,
   "metadata": {
    "collapsed": true,
    "ExecuteTime": {
     "end_time": "2023-05-02T12:53:14.361140404Z",
     "start_time": "2023-05-02T12:53:14.005179783Z"
    }
   },
   "outputs": [],
   "source": [
    "import pandas as pd"
   ]
  },
  {
   "cell_type": "code",
   "execution_count": 2,
   "outputs": [],
   "source": [
    "def exract(data_path, metadata_path):\n",
    "    df = pd.read_csv(data_path, header=[0,1])\n",
    "    meta = pd.read_csv(metadata_path, sep = ' ', header=None)\n",
    "    dates = ['year','month','day','hour','day_of_week','holiday','day_of_year']\n",
    "    df.columns = dates+list(meta[2])\n",
    "    df = df.set_index(dates)\n",
    "    return df"
   ],
   "metadata": {
    "collapsed": false,
    "ExecuteTime": {
     "end_time": "2023-05-02T12:53:15.755105952Z",
     "start_time": "2023-05-02T12:53:15.745150924Z"
    }
   }
  },
  {
   "cell_type": "code",
   "execution_count": 3,
   "outputs": [],
   "source": [
    "df10= exract('data/Data_PM10.csv', 'data/MetaData_PM10.txt')\n",
    "df25 = exract('data/Data_PM25.csv', 'data/MetaData_PM25.txt')\n",
    "dfBP = exract('data/Data_BP.csv', 'data/MetaData_BP.txt')\n",
    "dfRH = exract('data/Data_RH.csv', 'data/MetaData_RH.txt')\n",
    "# dfWD = exract('data/Data_WD.csv', 'data/MetaData_WD.txt')\n",
    "# dfTemp = exract('data/Data_Temp.csv', 'data/MetaData_Temp.txt')\n",
    "# dfRain = exract('data/Data_Rain.csv', 'data/MetaData_Rain.txt')\n",
    "# dfSR = exract('data/Data_SR.csv', 'data/MetaData_SR.txt')\n",
    "\n",
    "# dfWD"
   ],
   "metadata": {
    "collapsed": false,
    "ExecuteTime": {
     "end_time": "2023-05-02T12:53:29.763631178Z",
     "start_time": "2023-05-02T12:53:18.159264018Z"
    }
   }
  },
  {
   "cell_type": "code",
   "execution_count": 4,
   "outputs": [
    {
     "data": {
      "text/plain": "                                                     PM10  PM25      BP    RH  \\\nyear month day hour day_of_week holiday day_of_year                             \n2015 1     1   0.5  5           0       1            29.5  28.5  1018.4  54.1   \n               1.0  5           0       1            21.2  20.9  1018.1  51.2   \n               1.5  5           0       1            23.5  22.9  1018.1  49.6   \n               2.0  5           0       1            22.8  22.4  1017.7  50.8   \n               2.5  5           0       1            26.7  25.6  1017.7  55.4   \n...                                                   ...   ...     ...   ...   \n     12    31  18.0 5           0       365          15.2   4.0  1009.0  78.1   \n               18.5 5           0       365          45.6  11.4  1009.3  77.9   \n               19.0 5           0       365          37.6   6.8  1009.5  87.2   \n               19.5 5           0       365          13.8   4.6  1009.5  92.0   \n               20.0 5           0       365          10.4   3.0  1009.3  94.0   \n\n                                                    station  \nyear month day hour day_of_week holiday day_of_year          \n2015 1     1   0.5  5           0       1               ATA  \n               1.0  5           0       1               ATA  \n               1.5  5           0       1               ATA  \n               2.0  5           0       1               ATA  \n               2.5  5           0       1               ATA  \n...                                                     ...  \n     12    31  18.0 5           0       365             NES  \n               18.5 5           0       365             NES  \n               19.0 5           0       365             NES  \n               19.5 5           0       365             NES  \n               20.0 5           0       365             NES  \n\n[33571 rows x 5 columns]",
      "text/html": "<div>\n<style scoped>\n    .dataframe tbody tr th:only-of-type {\n        vertical-align: middle;\n    }\n\n    .dataframe tbody tr th {\n        vertical-align: top;\n    }\n\n    .dataframe thead th {\n        text-align: right;\n    }\n</style>\n<table border=\"1\" class=\"dataframe\">\n  <thead>\n    <tr style=\"text-align: right;\">\n      <th></th>\n      <th></th>\n      <th></th>\n      <th></th>\n      <th></th>\n      <th></th>\n      <th></th>\n      <th>PM10</th>\n      <th>PM25</th>\n      <th>BP</th>\n      <th>RH</th>\n      <th>station</th>\n    </tr>\n    <tr>\n      <th>year</th>\n      <th>month</th>\n      <th>day</th>\n      <th>hour</th>\n      <th>day_of_week</th>\n      <th>holiday</th>\n      <th>day_of_year</th>\n      <th></th>\n      <th></th>\n      <th></th>\n      <th></th>\n      <th></th>\n    </tr>\n  </thead>\n  <tbody>\n    <tr>\n      <th rowspan=\"11\" valign=\"top\">2015</th>\n      <th rowspan=\"5\" valign=\"top\">1</th>\n      <th rowspan=\"5\" valign=\"top\">1</th>\n      <th>0.5</th>\n      <th>5</th>\n      <th>0</th>\n      <th>1</th>\n      <td>29.5</td>\n      <td>28.5</td>\n      <td>1018.4</td>\n      <td>54.1</td>\n      <td>ATA</td>\n    </tr>\n    <tr>\n      <th>1.0</th>\n      <th>5</th>\n      <th>0</th>\n      <th>1</th>\n      <td>21.2</td>\n      <td>20.9</td>\n      <td>1018.1</td>\n      <td>51.2</td>\n      <td>ATA</td>\n    </tr>\n    <tr>\n      <th>1.5</th>\n      <th>5</th>\n      <th>0</th>\n      <th>1</th>\n      <td>23.5</td>\n      <td>22.9</td>\n      <td>1018.1</td>\n      <td>49.6</td>\n      <td>ATA</td>\n    </tr>\n    <tr>\n      <th>2.0</th>\n      <th>5</th>\n      <th>0</th>\n      <th>1</th>\n      <td>22.8</td>\n      <td>22.4</td>\n      <td>1017.7</td>\n      <td>50.8</td>\n      <td>ATA</td>\n    </tr>\n    <tr>\n      <th>2.5</th>\n      <th>5</th>\n      <th>0</th>\n      <th>1</th>\n      <td>26.7</td>\n      <td>25.6</td>\n      <td>1017.7</td>\n      <td>55.4</td>\n      <td>ATA</td>\n    </tr>\n    <tr>\n      <th>...</th>\n      <th>...</th>\n      <th>...</th>\n      <th>...</th>\n      <th>...</th>\n      <th>...</th>\n      <td>...</td>\n      <td>...</td>\n      <td>...</td>\n      <td>...</td>\n      <td>...</td>\n    </tr>\n    <tr>\n      <th rowspan=\"5\" valign=\"top\">12</th>\n      <th rowspan=\"5\" valign=\"top\">31</th>\n      <th>18.0</th>\n      <th>5</th>\n      <th>0</th>\n      <th>365</th>\n      <td>15.2</td>\n      <td>4.0</td>\n      <td>1009.0</td>\n      <td>78.1</td>\n      <td>NES</td>\n    </tr>\n    <tr>\n      <th>18.5</th>\n      <th>5</th>\n      <th>0</th>\n      <th>365</th>\n      <td>45.6</td>\n      <td>11.4</td>\n      <td>1009.3</td>\n      <td>77.9</td>\n      <td>NES</td>\n    </tr>\n    <tr>\n      <th>19.0</th>\n      <th>5</th>\n      <th>0</th>\n      <th>365</th>\n      <td>37.6</td>\n      <td>6.8</td>\n      <td>1009.5</td>\n      <td>87.2</td>\n      <td>NES</td>\n    </tr>\n    <tr>\n      <th>19.5</th>\n      <th>5</th>\n      <th>0</th>\n      <th>365</th>\n      <td>13.8</td>\n      <td>4.6</td>\n      <td>1009.5</td>\n      <td>92.0</td>\n      <td>NES</td>\n    </tr>\n    <tr>\n      <th>20.0</th>\n      <th>5</th>\n      <th>0</th>\n      <th>365</th>\n      <td>10.4</td>\n      <td>3.0</td>\n      <td>1009.3</td>\n      <td>94.0</td>\n      <td>NES</td>\n    </tr>\n  </tbody>\n</table>\n<p>33571 rows × 5 columns</p>\n</div>"
     },
     "execution_count": 4,
     "metadata": {},
     "output_type": "execute_result"
    }
   ],
   "source": [
    "dates = ['year','month','day','hour','day_of_week','holiday','day_of_year']\n",
    "c= 0\n",
    "all_checks_df = pd.DataFrame()\n",
    "for i in df10.columns[7:]:\n",
    "    if i in df25.columns and i in dfBP.columns and i in dfRH.columns:\n",
    "        df10_per_station = df10[[i]]\n",
    "        df10_per_station.columns = ['PM10']\n",
    "        df25_per_station = df25[[i]]\n",
    "        df25_per_station.columns = ['PM25']\n",
    "        # dfBH_per_station = dfBH[[i]]\n",
    "        dfBP_per_station = dfBP[[i]]\n",
    "        dfBP_per_station.columns = ['BP']\n",
    "        dfRH_per_station = dfRH[[i]]\n",
    "        dfRH_per_station.columns = ['RH']\n",
    "        df_per_station = df10_per_station.join(df25_per_station, how = 'inner', lsuffix='_PM10', rsuffix='_PM25').join(dfBP_per_station, how = 'inner', lsuffix='_PM1025BH', rsuffix='_BP').join(dfRH_per_station, how = 'inner', lsuffix='_PM1025BH', rsuffix='_RH').dropna()\n",
    "        df_per_station['station'] = [i]*len(df_per_station.index)\n",
    "        df_per_station.set_index(['station'])\n",
    "        all_checks_df=pd.concat([all_checks_df,df_per_station])\n",
    "all_checks_df\n",
    "\n"
   ],
   "metadata": {
    "collapsed": false,
    "pycharm": {
     "is_executing": true
    },
    "ExecuteTime": {
     "end_time": "2023-05-02T12:53:36.917391076Z",
     "start_time": "2023-05-02T12:53:35.911872841Z"
    }
   }
  },
  {
   "cell_type": "code",
   "execution_count": 5,
   "outputs": [],
   "source": [
    "def model_per_rows_number(examples_df, n:int):\n",
    "    df = examples_df.sample(n=n)\n",
    "    from sklearn.ensemble import RandomForestRegressor\n",
    "    from sklearn.metrics import mean_absolute_error, r2_score\n",
    "    from sklearn.model_selection import train_test_split\n",
    "    forest_model = RandomForestRegressor(random_state=1)\n",
    "    X = df[['PM10','BP','RH']]\n",
    "    y = df.PM25\n",
    "    train_X, val_X, train_y, val_y = train_test_split(X, y,random_state = 0)\n",
    "    forest_model.fit(train_X, train_y.to_numpy())\n",
    "    melb_preds = forest_model.predict(val_X)\n",
    "    mae = mean_absolute_error(val_y.to_numpy().reshape(-1,1), melb_preds)\n",
    "    r2 = r2_score(val_y, melb_preds)\n",
    "    return forest_model, mae, r2\n"
   ],
   "metadata": {
    "collapsed": false,
    "ExecuteTime": {
     "end_time": "2023-05-02T12:54:05.981396813Z",
     "start_time": "2023-05-02T12:54:05.936612228Z"
    }
   }
  },
  {
   "cell_type": "code",
   "execution_count": 8,
   "outputs": [],
   "source": [
    "model = model_per_rows_number(all_checks_df, 33000)"
   ],
   "metadata": {
    "collapsed": false,
    "ExecuteTime": {
     "end_time": "2023-05-02T12:56:29.658885017Z",
     "start_time": "2023-05-02T12:56:18.763787395Z"
    }
   }
  },
  {
   "cell_type": "code",
   "execution_count": 9,
   "outputs": [
    {
     "data": {
      "text/plain": "<Axes: xlabel='PM10', ylabel='PM25'>"
     },
     "execution_count": 9,
     "metadata": {},
     "output_type": "execute_result"
    },
    {
     "data": {
      "text/plain": "<Figure size 640x480 with 1 Axes>",
      "image/png": "[encoded data removed]"
     },
     "metadata": {},
     "output_type": "display_data"
    }
   ],
   "source": [
    "all_checks_df.plot.scatter(x='PM10', y='PM25')"
   ],
   "metadata": {
    "collapsed": false,
    "ExecuteTime": {
     "end_time": "2023-05-02T12:57:31.252531997Z",
     "start_time": "2023-05-02T12:57:29.628475513Z"
    }
   }
  },
  {
   "cell_type": "code",
   "execution_count": 10,
   "outputs": [],
   "source": [
    "import pickle\n",
    "\n",
    "filename = \"/home/dov-wachtfogel/PycharmProjects/MigdalDavid/PM10_RH_BP_to_PM25_model.pickle\"\n",
    "\n",
    "# save model\n",
    "pickle.dump(model, open(filename, \"wb\"))\n"
   ],
   "metadata": {
    "collapsed": false,
    "ExecuteTime": {
     "end_time": "2023-05-02T12:59:38.727668845Z",
     "start_time": "2023-05-02T12:59:38.237986864Z"
    }
   }
  },
  {
   "cell_type": "code",
   "execution_count": 4,
   "outputs": [
    {
     "data": {
      "text/plain": "                                                     PM10  PM25\nyear month day hour day_of_week holiday day_of_year            \n2001 1     4   9.0  5           0       4            85.0  40.0\n               9.5  5           0       4            66.0  31.0\n               10.0 5           0       4            50.0  23.0\n               10.5 5           0       4            52.0  32.0\n               11.0 5           0       4            63.0  33.0\n...                                                   ...   ...\n2015 12    31  20.5 5           0       365           3.4   1.7\n               21.0 5           0       365           6.2   8.1\n               21.5 5           0       365          16.3  13.1\n               22.5 5           0       365          11.7   6.6\n               23.0 5           0       365          12.9  19.3\n\n[2573901 rows x 2 columns]",
      "text/html": "<div>\n<style scoped>\n    .dataframe tbody tr th:only-of-type {\n        vertical-align: middle;\n    }\n\n    .dataframe tbody tr th {\n        vertical-align: top;\n    }\n\n    .dataframe thead th {\n        text-align: right;\n    }\n</style>\n<table border=\"1\" class=\"dataframe\">\n  <thead>\n    <tr style=\"text-align: right;\">\n      <th></th>\n      <th></th>\n      <th></th>\n      <th></th>\n      <th></th>\n      <th></th>\n      <th></th>\n      <th>PM10</th>\n      <th>PM25</th>\n    </tr>\n    <tr>\n      <th>year</th>\n      <th>month</th>\n      <th>day</th>\n      <th>hour</th>\n      <th>day_of_week</th>\n      <th>holiday</th>\n      <th>day_of_year</th>\n      <th></th>\n      <th></th>\n    </tr>\n  </thead>\n  <tbody>\n    <tr>\n      <th rowspan=\"5\" valign=\"top\">2001</th>\n      <th rowspan=\"5\" valign=\"top\">1</th>\n      <th rowspan=\"5\" valign=\"top\">4</th>\n      <th>9.0</th>\n      <th>5</th>\n      <th>0</th>\n      <th>4</th>\n      <td>85.0</td>\n      <td>40.0</td>\n    </tr>\n    <tr>\n      <th>9.5</th>\n      <th>5</th>\n      <th>0</th>\n      <th>4</th>\n      <td>66.0</td>\n      <td>31.0</td>\n    </tr>\n    <tr>\n      <th>10.0</th>\n      <th>5</th>\n      <th>0</th>\n      <th>4</th>\n      <td>50.0</td>\n      <td>23.0</td>\n    </tr>\n    <tr>\n      <th>10.5</th>\n      <th>5</th>\n      <th>0</th>\n      <th>4</th>\n      <td>52.0</td>\n      <td>32.0</td>\n    </tr>\n    <tr>\n      <th>11.0</th>\n      <th>5</th>\n      <th>0</th>\n      <th>4</th>\n      <td>63.0</td>\n      <td>33.0</td>\n    </tr>\n    <tr>\n      <th>...</th>\n      <th>...</th>\n      <th>...</th>\n      <th>...</th>\n      <th>...</th>\n      <th>...</th>\n      <th>...</th>\n      <td>...</td>\n      <td>...</td>\n    </tr>\n    <tr>\n      <th rowspan=\"5\" valign=\"top\">2015</th>\n      <th rowspan=\"5\" valign=\"top\">12</th>\n      <th rowspan=\"5\" valign=\"top\">31</th>\n      <th>20.5</th>\n      <th>5</th>\n      <th>0</th>\n      <th>365</th>\n      <td>3.4</td>\n      <td>1.7</td>\n    </tr>\n    <tr>\n      <th>21.0</th>\n      <th>5</th>\n      <th>0</th>\n      <th>365</th>\n      <td>6.2</td>\n      <td>8.1</td>\n    </tr>\n    <tr>\n      <th>21.5</th>\n      <th>5</th>\n      <th>0</th>\n      <th>365</th>\n      <td>16.3</td>\n      <td>13.1</td>\n    </tr>\n    <tr>\n      <th>22.5</th>\n      <th>5</th>\n      <th>0</th>\n      <th>365</th>\n      <td>11.7</td>\n      <td>6.6</td>\n    </tr>\n    <tr>\n      <th>23.0</th>\n      <th>5</th>\n      <th>0</th>\n      <th>365</th>\n      <td>12.9</td>\n      <td>19.3</td>\n    </tr>\n  </tbody>\n</table>\n<p>2573901 rows × 2 columns</p>\n</div>"
     },
     "execution_count": 4,
     "metadata": {},
     "output_type": "execute_result"
    }
   ],
   "source": [
    "all_checks_df = pd.read_csv('all_PM10_PM25.csv', header=[0], index_col=[0,1,2,3,4,5,6])\n",
    "all_checks_df"
   ],
   "metadata": {
    "collapsed": false,
    "ExecuteTime": {
     "end_time": "2023-05-02T10:46:28.204096049Z",
     "start_time": "2023-05-02T10:46:26.378739178Z"
    }
   }
  }
 ],
 "metadata": {
  "kernelspec": {
   "display_name": "Python 3",
   "language": "python",
   "name": "python3"
  },
  "language_info": {
   "codemirror_mode": {
    "name": "ipython",
    "version": 2
   },
   "file_extension": ".py",
   "mimetype": "text/x-python",
   "name": "python",
   "nbconvert_exporter": "python",
   "pygments_lexer": "ipython2",
   "version": "2.7.6"
  }
 },
 "nbformat": 4,
 "nbformat_minor": 0
}
